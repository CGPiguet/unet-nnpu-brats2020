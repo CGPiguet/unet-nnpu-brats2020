{
 "cells": [
  {
   "cell_type": "code",
   "execution_count": 1,
   "source": [
    "import sys\r\n",
    "import argparse\r\n",
    "\r\n",
    "\r\n",
    "\r\n",
    "from tqdm import tqdm, trange\r\n",
    "import torch\r\n",
    "import torch.nn as nn\r\n",
    "from torch.utils.data import DataLoader, Dataset\r\n",
    "from torchvision.transforms import ToPILImage, Resize, ToTensor, Normalize, Compose\r\n",
    "\r\n",
    "import pandas as pd\r\n",
    "import matplotlib as mpl\r\n",
    "import matplotlib.pyplot as plt\r\n",
    "import matplotlib.animation as animation\r\n",
    "import numpy as np\r\n",
    "\r\n",
    "\r\n",
    "\r\n",
    "from preprocess import preprocess_brats2020\r\n",
    "from dataset import PN_BraTS2020_Dataset, PU_BraTS2020_Dataset, BCE_BraTS2020_Dataset\r\n",
    "from model import unet\r\n",
    "from nnPULoss import PULoss\r\n",
    "from trainer import Trainer\r\n",
    "%matplotlib inline\r\n",
    "%load_ext autoreload\r\n",
    "%autoreload 2\r\n"
   ],
   "outputs": [],
   "metadata": {}
  },
  {
   "cell_type": "code",
   "execution_count": 2,
   "source": [
    "train_data, valid_data = preprocess_brats2020(root_dir='MICCAI_BraTS2020_TrainingData/', ratio_train_valid= 0.8, ratio_P_to_U= 0.95)"
   ],
   "outputs": [
    {
     "output_type": "stream",
     "name": "stdout",
     "text": [
      "\n",
      "Preprocessing\n",
      "\tStep 1.\tGet subject folder path from the root\n",
      "\tStep 2.\tSplit data for train and valid dataset\n",
      "\t\tTotal:\t369\n",
      "\t\tRatio:\t0.8\n",
      "\t\t#train:\t295\n",
      "\t\t#valid:\t74 \n",
      "\tStep 3.\tGet img mode from all subject/folder\n",
      "\tStep 4.\tGet which slice is unhealthy\n",
      "\tStep 5.\tSlice 3D to 2D in prevision of torch.Dataset\n",
      "\n"
     ]
    }
   ],
   "metadata": {}
  },
  {
   "cell_type": "code",
   "execution_count": 13,
   "source": [
    "from run_train import select_dataloader\r\n",
    "print(len(train_data[0]), len(valid_data[0]))\r\n",
    "\r\n",
    "t_data, v_data = (train_data[0][:16], train_data[1]) , (valid_data[0][:16], valid_data[1])\r\n",
    "\r\n",
    "print(len(t_data[0]), len(v_data[0]))\r\n",
    "train_dataloader, valid_dataloader,_ = select_dataloader(train_data, valid_data, \"nnPU\", 8)"
   ],
   "outputs": [
    {
     "output_type": "stream",
     "name": "stdout",
     "text": [
      "19704 4940\n",
      "16 16\n",
      "Compose(\n",
      "    ToTensor()\n",
      ")\n"
     ]
    },
    {
     "output_type": "stream",
     "name": "stderr",
     "text": [
      "d:\\MEGA\\UniBE\\Master's Work\\3. Project\\uNet\\dataset.py:122: UserWarning: To copy construct from a tensor, it is recommended to use sourceTensor.clone().detach() or sourceTensor.clone().detach().requires_grad_(True), rather than torch.tensor(sourceTensor).\n",
      "  seg_slice_bin = torch.tensor(seg_slice_bin, dtype= torch.float32)\n"
     ]
    },
    {
     "output_type": "stream",
     "name": "stdout",
     "text": [
      "IMG status: torch.Size([1, 240, 240]) torch.float32 torch.FloatTensor\n",
      "SEG status: torch.Size([240, 240]) torch.float32 torch.FloatTensor\n"
     ]
    }
   ],
   "metadata": {}
  },
  {
   "cell_type": "code",
   "execution_count": null,
   "source": [
    "data = next(iter(valid_dataloader))"
   ],
   "outputs": [],
   "metadata": {}
  },
  {
   "cell_type": "code",
   "execution_count": null,
   "source": [
    "print(np.unique(data['target'][0]))\r\n",
    "print(np.count_nonzero(data['target'][0]==0), np.count_nonzero(data['target'][0]==1), data['target'][0].size())\r\n",
    "plt.hist(data['target'][0])"
   ],
   "outputs": [
    {
     "output_type": "stream",
     "name": "stdout",
     "text": [
      "[0. 1.]\n",
      "57585 15 torch.Size([240, 240])\n"
     ]
    },
    {
     "output_type": "execute_result",
     "data": {
      "text/plain": [
       "(array([[240.,   0.,   0., ...,   0.,   0.,   0.],\n",
       "        [240.,   0.,   0., ...,   0.,   0.,   0.],\n",
       "        [240.,   0.,   0., ...,   0.,   0.,   0.],\n",
       "        ...,\n",
       "        [240.,   0.,   0., ...,   0.,   0.,   0.],\n",
       "        [240.,   0.,   0., ...,   0.,   0.,   0.],\n",
       "        [240.,   0.,   0., ...,   0.,   0.,   0.]]),\n",
       " array([0. , 0.1, 0.2, 0.3, 0.4, 0.5, 0.6, 0.7, 0.8, 0.9, 1. ],\n",
       "       dtype=float32),\n",
       " <a list of 240 BarContainer objects>)"
      ]
     },
     "metadata": {},
     "execution_count": 33
    },
    {
     "output_type": "display_data",
     "data": {
      "text/plain": [
       "<Figure size 432x288 with 1 Axes>"
      ],
      "image/png": "[encoded data removed]"
     },
     "metadata": {
      "needs_background": "light"
     }
    }
   ],
   "metadata": {}
  },
  {
   "cell_type": "code",
   "execution_count": null,
   "source": [
    "# print(np.unique(data['img'][0]))\r\n",
    "print(np.count_nonzero(data['img'][0]==0), np.count_nonzero(data['img'][0]!=0), data['img'][0].size())\r\n",
    "plt.hist(data['img'][0].squeeze())"
   ],
   "outputs": [
    {
     "output_type": "stream",
     "name": "stdout",
     "text": [
      "50977 6623 torch.Size([1, 240, 240])\n"
     ]
    },
    {
     "output_type": "execute_result",
     "data": {
      "text/plain": [
       "(array([[240.,   0.,   0., ...,   0.,   0.,   0.],\n",
       "        [240.,   0.,   0., ...,   0.,   0.,   0.],\n",
       "        [240.,   0.,   0., ...,   0.,   0.,   0.],\n",
       "        ...,\n",
       "        [240.,   0.,   0., ...,   0.,   0.,   0.],\n",
       "        [240.,   0.,   0., ...,   0.,   0.,   0.],\n",
       "        [240.,   0.,   0., ...,   0.,   0.,   0.]]),\n",
       " array([0.        , 0.03960785, 0.07921569, 0.11882353, 0.15843138,\n",
       "        0.19803922, 0.23764706, 0.2772549 , 0.31686276, 0.35647058,\n",
       "        0.39607844], dtype=float32),\n",
       " <a list of 240 BarContainer objects>)"
      ]
     },
     "metadata": {},
     "execution_count": 37
    },
    {
     "output_type": "display_data",
     "data": {
      "text/plain": [
       "<Figure size 432x288 with 1 Axes>"
      ],
      "image/png": "[encoded data removed]"
     },
     "metadata": {
      "needs_background": "light"
     }
    }
   ],
   "metadata": {}
  },
  {
   "cell_type": "code",
   "execution_count": null,
   "source": [],
   "outputs": [],
   "metadata": {}
  }
 ],
 "metadata": {
  "interpreter": {
   "hash": "b0ae08be0b7cace4db520c8e7dffdc12f3932033e1be3f59d35e77bf13c4219e"
  },
  "kernelspec": {
   "display_name": "Python 3.8.10 64-bit ('mt': conda)",
   "name": "python3"
  },
  "language_info": {
   "name": "python",
   "version": ""
  },
  "orig_nbformat": 4
 },
 "nbformat": 4,
 "nbformat_minor": 2
}