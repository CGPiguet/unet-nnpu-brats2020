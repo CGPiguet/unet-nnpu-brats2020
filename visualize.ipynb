{
 "cells": [
  {
   "cell_type": "code",
   "execution_count": null,
   "metadata": {},
   "outputs": [],
   "source": []
  }
 ],
 "metadata": {
  "interpreter": {
   "hash": "b0ae08be0b7cace4db520c8e7dffdc12f3932033e1be3f59d35e77bf13c4219e"
  },
  "kernelspec": {
   "display_name": "Python 3.8.10 64-bit ('mt': conda)",
   "name": "python3"
  },
  "language_info": {
   "name": "python",
   "version": ""
  },
  "orig_nbformat": 4
 },
 "nbformat": 4,
 "nbformat_minor": 2
}